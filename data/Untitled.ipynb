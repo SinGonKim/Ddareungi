{
 "cells": [
  {
   "cell_type": "code",
   "execution_count": 1,
   "id": "6e48fa9e",
   "metadata": {},
   "outputs": [],
   "source": [
    "import numpy as np\n",
    "import pandas as pd"
   ]
  },
  {
   "cell_type": "code",
   "execution_count": 2,
   "id": "5decbe33",
   "metadata": {},
   "outputs": [
    {
     "data": {
      "text/html": [
       "<div>\n",
       "<style scoped>\n",
       "    .dataframe tbody tr th:only-of-type {\n",
       "        vertical-align: middle;\n",
       "    }\n",
       "\n",
       "    .dataframe tbody tr th {\n",
       "        vertical-align: top;\n",
       "    }\n",
       "\n",
       "    .dataframe thead th {\n",
       "        text-align: right;\n",
       "    }\n",
       "</style>\n",
       "<table border=\"1\" class=\"dataframe\">\n",
       "  <thead>\n",
       "    <tr style=\"text-align: right;\">\n",
       "      <th></th>\n",
       "      <th>대여일자</th>\n",
       "      <th>대여소번호</th>\n",
       "      <th>대여소</th>\n",
       "      <th>성별</th>\n",
       "      <th>연령대</th>\n",
       "      <th>이용건수</th>\n",
       "      <th>운동량</th>\n",
       "      <th>탄소량</th>\n",
       "      <th>이동거리(M)</th>\n",
       "      <th>이용시간(분)</th>\n",
       "    </tr>\n",
       "  </thead>\n",
       "  <tbody>\n",
       "    <tr>\n",
       "      <th>0</th>\n",
       "      <td>2023-08-14</td>\n",
       "      <td>1430</td>\n",
       "      <td>1430. 중랑구청</td>\n",
       "      <td>F</td>\n",
       "      <td>30대</td>\n",
       "      <td>1</td>\n",
       "      <td>55.44</td>\n",
       "      <td>0.57</td>\n",
       "      <td>2456.26</td>\n",
       "      <td>15</td>\n",
       "    </tr>\n",
       "    <tr>\n",
       "      <th>1</th>\n",
       "      <td>2023-08-23</td>\n",
       "      <td>3416</td>\n",
       "      <td>3416.동묘앞역 6번출구</td>\n",
       "      <td>NaN</td>\n",
       "      <td>60대</td>\n",
       "      <td>1</td>\n",
       "      <td>51.21</td>\n",
       "      <td>0.45</td>\n",
       "      <td>1930.00</td>\n",
       "      <td>20</td>\n",
       "    </tr>\n",
       "    <tr>\n",
       "      <th>2</th>\n",
       "      <td>2023-08-04</td>\n",
       "      <td>1177</td>\n",
       "      <td>1177. 수명중?고교</td>\n",
       "      <td>F</td>\n",
       "      <td>기타</td>\n",
       "      <td>2</td>\n",
       "      <td>73.12</td>\n",
       "      <td>0.87</td>\n",
       "      <td>3782.81</td>\n",
       "      <td>22</td>\n",
       "    </tr>\n",
       "    <tr>\n",
       "      <th>3</th>\n",
       "      <td>2023-08-28</td>\n",
       "      <td>4377</td>\n",
       "      <td>4377. 우영테크노센터 앞</td>\n",
       "      <td>NaN</td>\n",
       "      <td>50대</td>\n",
       "      <td>2</td>\n",
       "      <td>124.06</td>\n",
       "      <td>0.93</td>\n",
       "      <td>4020.00</td>\n",
       "      <td>29</td>\n",
       "    </tr>\n",
       "    <tr>\n",
       "      <th>4</th>\n",
       "      <td>2023-08-06</td>\n",
       "      <td>642</td>\n",
       "      <td>642. 신답역 사거리</td>\n",
       "      <td>F</td>\n",
       "      <td>20대</td>\n",
       "      <td>1</td>\n",
       "      <td>34.50</td>\n",
       "      <td>0.45</td>\n",
       "      <td>1936.09</td>\n",
       "      <td>23</td>\n",
       "    </tr>\n",
       "  </tbody>\n",
       "</table>\n",
       "</div>"
      ],
      "text/plain": [
       "         대여일자  대여소번호              대여소   성별  연령대   이용건수     운동량   탄소량  이동거리(M)  \\\n",
       "0  2023-08-14   1430       1430. 중랑구청    F  30대      1   55.44  0.57  2456.26   \n",
       "1  2023-08-23   3416   3416.동묘앞역 6번출구  NaN  60대      1   51.21  0.45  1930.00   \n",
       "2  2023-08-04   1177     1177. 수명중?고교    F   기타      2   73.12  0.87  3782.81   \n",
       "3  2023-08-28   4377  4377. 우영테크노센터 앞  NaN  50대      2  124.06  0.93  4020.00   \n",
       "4  2023-08-06    642     642. 신답역 사거리    F  20대      1   34.50  0.45  1936.09   \n",
       "\n",
       "   이용시간(분)  \n",
       "0       15  \n",
       "1       20  \n",
       "2       22  \n",
       "3       29  \n",
       "4       23  "
      ]
     },
     "execution_count": 2,
     "metadata": {},
     "output_type": "execute_result"
    }
   ],
   "source": [
    "df_trainX = pd.read_csv(\"S01_train_X.csv\")\n",
    "df_trainX.head()"
   ]
  },
  {
   "cell_type": "code",
   "execution_count": 3,
   "id": "8382e715",
   "metadata": {},
   "outputs": [
    {
     "data": {
      "text/html": [
       "<div>\n",
       "<style scoped>\n",
       "    .dataframe tbody tr th:only-of-type {\n",
       "        vertical-align: middle;\n",
       "    }\n",
       "\n",
       "    .dataframe tbody tr th {\n",
       "        vertical-align: top;\n",
       "    }\n",
       "\n",
       "    .dataframe thead th {\n",
       "        text-align: right;\n",
       "    }\n",
       "</style>\n",
       "<table border=\"1\" class=\"dataframe\">\n",
       "  <thead>\n",
       "    <tr style=\"text-align: right;\">\n",
       "      <th></th>\n",
       "      <th>대여일자</th>\n",
       "      <th>대여소번호</th>\n",
       "      <th>대여소</th>\n",
       "      <th>성별</th>\n",
       "      <th>연령대</th>\n",
       "      <th>이용건수</th>\n",
       "      <th>운동량</th>\n",
       "      <th>탄소량</th>\n",
       "      <th>이동거리(M)</th>\n",
       "      <th>이용시간(분)</th>\n",
       "    </tr>\n",
       "  </thead>\n",
       "  <tbody>\n",
       "    <tr>\n",
       "      <th>0</th>\n",
       "      <td>2023-08-01</td>\n",
       "      <td>2741</td>\n",
       "      <td>2741.마곡수명산파크5-6단지</td>\n",
       "      <td>F</td>\n",
       "      <td>30대</td>\n",
       "      <td>3</td>\n",
       "      <td>98.52</td>\n",
       "      <td>0.99</td>\n",
       "      <td>4221.26</td>\n",
       "      <td>71</td>\n",
       "    </tr>\n",
       "    <tr>\n",
       "      <th>1</th>\n",
       "      <td>2023-08-31</td>\n",
       "      <td>3914</td>\n",
       "      <td>3914. 신도림쌍용플래티넘노블아파트 앞</td>\n",
       "      <td>M</td>\n",
       "      <td>50대</td>\n",
       "      <td>1</td>\n",
       "      <td>133.22</td>\n",
       "      <td>1.03</td>\n",
       "      <td>4426.58</td>\n",
       "      <td>23</td>\n",
       "    </tr>\n",
       "    <tr>\n",
       "      <th>2</th>\n",
       "      <td>2023-08-17</td>\n",
       "      <td>4481</td>\n",
       "      <td>4481. 올림픽공원 북2문 B</td>\n",
       "      <td>M</td>\n",
       "      <td>20대</td>\n",
       "      <td>2</td>\n",
       "      <td>188.06</td>\n",
       "      <td>1.55</td>\n",
       "      <td>6680.00</td>\n",
       "      <td>80</td>\n",
       "    </tr>\n",
       "    <tr>\n",
       "      <th>3</th>\n",
       "      <td>2023-08-31</td>\n",
       "      <td>146</td>\n",
       "      <td>146. 마포역 2번출구 뒤</td>\n",
       "      <td>F</td>\n",
       "      <td>40대</td>\n",
       "      <td>1</td>\n",
       "      <td>221.88</td>\n",
       "      <td>2.50</td>\n",
       "      <td>10774.94</td>\n",
       "      <td>138</td>\n",
       "    </tr>\n",
       "    <tr>\n",
       "      <th>4</th>\n",
       "      <td>2023-08-02</td>\n",
       "      <td>1215</td>\n",
       "      <td>1215. 올림픽공원역 1번출구 앞</td>\n",
       "      <td>M</td>\n",
       "      <td>기타</td>\n",
       "      <td>1</td>\n",
       "      <td>74.90</td>\n",
       "      <td>0.68</td>\n",
       "      <td>2910.00</td>\n",
       "      <td>16</td>\n",
       "    </tr>\n",
       "  </tbody>\n",
       "</table>\n",
       "</div>"
      ],
      "text/plain": [
       "         대여일자  대여소번호                     대여소 성별  연령대   이용건수     운동량   탄소량  \\\n",
       "0  2023-08-01   2741       2741.마곡수명산파크5-6단지  F  30대      3   98.52  0.99   \n",
       "1  2023-08-31   3914  3914. 신도림쌍용플래티넘노블아파트 앞  M  50대      1  133.22  1.03   \n",
       "2  2023-08-17   4481       4481. 올림픽공원 북2문 B  M  20대      2  188.06  1.55   \n",
       "3  2023-08-31    146         146. 마포역 2번출구 뒤  F  40대      1  221.88  2.50   \n",
       "4  2023-08-02   1215     1215. 올림픽공원역 1번출구 앞  M   기타      1   74.90  0.68   \n",
       "\n",
       "    이동거리(M)  이용시간(분)  \n",
       "0   4221.26       71  \n",
       "1   4426.58       23  \n",
       "2   6680.00       80  \n",
       "3  10774.94      138  \n",
       "4   2910.00       16  "
      ]
     },
     "execution_count": 3,
     "metadata": {},
     "output_type": "execute_result"
    }
   ],
   "source": [
    "df_testX = pd.read_csv(\"S01_test_X.csv\")\n",
    "df_testX.head()"
   ]
  },
  {
   "cell_type": "code",
   "execution_count": 6,
   "id": "83011dc5",
   "metadata": {},
   "outputs": [
    {
     "data": {
      "text/html": [
       "<div>\n",
       "<style scoped>\n",
       "    .dataframe tbody tr th:only-of-type {\n",
       "        vertical-align: middle;\n",
       "    }\n",
       "\n",
       "    .dataframe tbody tr th {\n",
       "        vertical-align: top;\n",
       "    }\n",
       "\n",
       "    .dataframe thead th {\n",
       "        text-align: right;\n",
       "    }\n",
       "</style>\n",
       "<table border=\"1\" class=\"dataframe\">\n",
       "  <thead>\n",
       "    <tr style=\"text-align: right;\">\n",
       "      <th></th>\n",
       "      <th>대여구분코드</th>\n",
       "    </tr>\n",
       "  </thead>\n",
       "  <tbody>\n",
       "    <tr>\n",
       "      <th>0</th>\n",
       "      <td>정기권</td>\n",
       "    </tr>\n",
       "    <tr>\n",
       "      <th>1</th>\n",
       "      <td>정기권</td>\n",
       "    </tr>\n",
       "    <tr>\n",
       "      <th>2</th>\n",
       "      <td>정기권</td>\n",
       "    </tr>\n",
       "    <tr>\n",
       "      <th>3</th>\n",
       "      <td>정기권</td>\n",
       "    </tr>\n",
       "    <tr>\n",
       "      <th>4</th>\n",
       "      <td>정기권</td>\n",
       "    </tr>\n",
       "  </tbody>\n",
       "</table>\n",
       "</div>"
      ],
      "text/plain": [
       "  대여구분코드\n",
       "0    정기권\n",
       "1    정기권\n",
       "2    정기권\n",
       "3    정기권\n",
       "4    정기권"
      ]
     },
     "execution_count": 6,
     "metadata": {},
     "output_type": "execute_result"
    }
   ],
   "source": [
    "df_trainY = pd.read_csv(\"S01_train_Y.csv\")\n",
    "df_trainY.head()"
   ]
  },
  {
   "cell_type": "code",
   "execution_count": 7,
   "id": "00936644",
   "metadata": {},
   "outputs": [
    {
     "data": {
      "text/plain": [
       "정기권         1371007\n",
       "일일권          324778\n",
       "일일권(비회원)      16291\n",
       "Name: 대여구분코드, dtype: int64"
      ]
     },
     "execution_count": 7,
     "metadata": {},
     "output_type": "execute_result"
    }
   ],
   "source": [
    "df_trainY['대여구분코드'].value_counts()"
   ]
  },
  {
   "cell_type": "code",
   "execution_count": 4,
   "id": "33cbd483",
   "metadata": {},
   "outputs": [
    {
     "data": {
      "text/html": [
       "<div>\n",
       "<style scoped>\n",
       "    .dataframe tbody tr th:only-of-type {\n",
       "        vertical-align: middle;\n",
       "    }\n",
       "\n",
       "    .dataframe tbody tr th {\n",
       "        vertical-align: top;\n",
       "    }\n",
       "\n",
       "    .dataframe thead th {\n",
       "        text-align: right;\n",
       "    }\n",
       "</style>\n",
       "<table border=\"1\" class=\"dataframe\">\n",
       "  <thead>\n",
       "    <tr style=\"text-align: right;\">\n",
       "      <th></th>\n",
       "      <th>대여구분코드</th>\n",
       "    </tr>\n",
       "  </thead>\n",
       "  <tbody>\n",
       "    <tr>\n",
       "      <th>0</th>\n",
       "      <td>정기권</td>\n",
       "    </tr>\n",
       "    <tr>\n",
       "      <th>1</th>\n",
       "      <td>정기권</td>\n",
       "    </tr>\n",
       "    <tr>\n",
       "      <th>2</th>\n",
       "      <td>일일권</td>\n",
       "    </tr>\n",
       "    <tr>\n",
       "      <th>3</th>\n",
       "      <td>일일권</td>\n",
       "    </tr>\n",
       "    <tr>\n",
       "      <th>4</th>\n",
       "      <td>정기권</td>\n",
       "    </tr>\n",
       "  </tbody>\n",
       "</table>\n",
       "</div>"
      ],
      "text/plain": [
       "  대여구분코드\n",
       "0    정기권\n",
       "1    정기권\n",
       "2    일일권\n",
       "3    일일권\n",
       "4    정기권"
      ]
     },
     "execution_count": 4,
     "metadata": {},
     "output_type": "execute_result"
    }
   ],
   "source": [
    "df_testY = pd.read_csv(\"S01_test_Y.csv\")\n",
    "df_testY.head()"
   ]
  },
  {
   "cell_type": "code",
   "execution_count": 5,
   "id": "1240e343",
   "metadata": {},
   "outputs": [
    {
     "data": {
      "text/plain": [
       "정기권         228510\n",
       "일일권          54181\n",
       "일일권(비회원)      2654\n",
       "단체권              1\n",
       "Name: 대여구분코드, dtype: int64"
      ]
     },
     "execution_count": 5,
     "metadata": {},
     "output_type": "execute_result"
    }
   ],
   "source": [
    "df_testY['대여구분코드'].value_counts()"
   ]
  },
  {
   "cell_type": "code",
   "execution_count": 8,
   "id": "cf0598a5",
   "metadata": {},
   "outputs": [
    {
     "data": {
      "text/plain": [
       "정기권         228510\n",
       "일일권          54181\n",
       "일일권(비회원)      2654\n",
       "Name: 대여구분코드, dtype: int64"
      ]
     },
     "execution_count": 8,
     "metadata": {},
     "output_type": "execute_result"
    }
   ],
   "source": [
    "df_testY = df_testY[df_testY['대여구분코드'] != \"단체권\"]\n",
    "df_testY['대여구분코드'].value_counts()"
   ]
  },
  {
   "cell_type": "code",
   "execution_count": 9,
   "id": "f7cc7893",
   "metadata": {},
   "outputs": [],
   "source": [
    "df_testY.to_csv('./S01_test_Y.csv', index=False)"
   ]
  },
  {
   "cell_type": "code",
   "execution_count": null,
   "id": "5723fdf9",
   "metadata": {},
   "outputs": [],
   "source": [
    "from torch.utils.data import Dataset\n",
    "from torch.utils.data import DataLoader, TensorDataset, random_split\n",
    "from sklearn.preprocessing import StandardScaler, OneHotEncoder, LabelEncoder\n",
    "X_label_encoder = LabelEncoder()\n",
    "Y_label_encoder = LabelEncoder()"
   ]
  }
 ],
 "metadata": {
  "kernelspec": {
   "display_name": "Python 3 (ipykernel)",
   "language": "python",
   "name": "python3"
  },
  "language_info": {
   "codemirror_mode": {
    "name": "ipython",
    "version": 3
   },
   "file_extension": ".py",
   "mimetype": "text/x-python",
   "name": "python",
   "nbconvert_exporter": "python",
   "pygments_lexer": "ipython3",
   "version": "3.11.4"
  }
 },
 "nbformat": 4,
 "nbformat_minor": 5
}
